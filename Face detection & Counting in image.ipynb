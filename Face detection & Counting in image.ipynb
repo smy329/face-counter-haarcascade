{
 "cells": [
  {
   "cell_type": "code",
   "execution_count": 1,
   "metadata": {},
   "outputs": [],
   "source": [
    "import numpy as np\n",
    "import cv2\n"
   ]
  },
  {
   "cell_type": "code",
   "execution_count": 2,
   "metadata": {},
   "outputs": [],
   "source": [
    "face_cascade = cv2.CascadeClassifier('haarcascade_frontalface_default.xml')\n",
    "image = cv2.imread('team3.jpg')\n",
    "grayImage = cv2.cvtColor(image, cv2.COLOR_BGR2GRAY)"
   ]
  },
  {
   "cell_type": "code",
   "execution_count": 3,
   "metadata": {},
   "outputs": [
    {
     "name": "stdout",
     "output_type": "stream",
     "text": [
      "<class 'numpy.ndarray'>\n",
      "[[1739  379  302  302]\n",
      " [1033  380  323  323]\n",
      " [2448  407  316  316]\n",
      " [3118  403  310  310]\n",
      " [4426  610  329  329]\n",
      " [ 553  641  317  317]\n",
      " [3908  719  338  338]\n",
      " [2489  809  119  119]\n",
      " [3182  832  107  107]\n",
      " [2236 1602  352  352]\n",
      " [2987 1619  338  338]\n",
      " [1701 1758  310  310]\n",
      " [3746 1868  400  400]\n",
      " [1502 1321   64   64]\n",
      " [1532 1533   57   57]\n",
      " [ 932 1751  136  136]\n",
      " [2368 2133  102  102]\n",
      " [1767 2068   91   91]\n",
      " [1702 2196   85   85]\n",
      " [1952 2625   70   70]]\n"
     ]
    }
   ],
   "source": [
    "#Here faces is a Numpy ndarray\n",
    "faces = face_cascade.detectMultiScale(grayImage)\n",
    "\n",
    "#Just to confirm the type of the output, we use Python’s type function to check the type of the returned object\n",
    "print (type(faces))\n",
    "print (faces)"
   ]
  },
  {
   "cell_type": "markdown",
   "metadata": {},
   "source": [
    "##### We can also know more about our output by calling the shape method on our array, which will return its dimensions. As we will see, we will get a matrix of N rows and 4 columns, being N the number of faces detected and 4 the dimensions of the rectangle of each face."
   ]
  },
  {
   "cell_type": "code",
   "execution_count": 4,
   "metadata": {},
   "outputs": [
    {
     "name": "stdout",
     "output_type": "stream",
     "text": [
      "(20, 4)\n"
     ]
    }
   ],
   "source": [
    "print (faces.shape)"
   ]
  },
  {
   "cell_type": "code",
   "execution_count": 5,
   "metadata": {},
   "outputs": [
    {
     "name": "stdout",
     "output_type": "stream",
     "text": [
      "Number of faces detected: 20\n"
     ]
    }
   ],
   "source": [
    "print (\"Number of faces detected: \" + str(faces.shape[0]))"
   ]
  },
  {
   "cell_type": "code",
   "execution_count": 6,
   "metadata": {},
   "outputs": [],
   "source": [
    "#draw the rectangles around the faces in our original image\n",
    "for (x,y,w,h) in faces:\n",
    "    cv2.rectangle(image,(x,y),(x+w,y+h),(0,255,0),1)"
   ]
  },
  {
   "cell_type": "code",
   "execution_count": 7,
   "metadata": {},
   "outputs": [
    {
     "data": {
      "text/plain": [
       "array([[[158, 144, 121],\n",
       "        [158, 144, 121],\n",
       "        [159, 145, 122],\n",
       "        ...,\n",
       "        [119, 123, 112],\n",
       "        [119, 123, 112],\n",
       "        [119, 123, 112]],\n",
       "\n",
       "       [[157, 143, 120],\n",
       "        [158, 144, 121],\n",
       "        [158, 144, 121],\n",
       "        ...,\n",
       "        [119, 123, 112],\n",
       "        [119, 123, 112],\n",
       "        [119, 123, 112]],\n",
       "\n",
       "       [[160, 144, 121],\n",
       "        [160, 144, 121],\n",
       "        [160, 144, 121],\n",
       "        ...,\n",
       "        [119, 123, 112],\n",
       "        [119, 123, 112],\n",
       "        [119, 123, 112]],\n",
       "\n",
       "       ...,\n",
       "\n",
       "       [[255, 255, 255],\n",
       "        [255, 255, 255],\n",
       "        [255, 255, 255],\n",
       "        ...,\n",
       "        [158, 162, 180],\n",
       "        [160, 162, 180],\n",
       "        [160, 162, 180]],\n",
       "\n",
       "       [[255, 255, 255],\n",
       "        [255, 255, 255],\n",
       "        [255, 255, 255],\n",
       "        ...,\n",
       "        [158, 162, 180],\n",
       "        [160, 163, 178],\n",
       "        [160, 163, 178]],\n",
       "\n",
       "       [[255, 255, 255],\n",
       "        [255, 255, 255],\n",
       "        [255, 255, 255],\n",
       "        ...,\n",
       "        [158, 162, 180],\n",
       "        [160, 163, 178],\n",
       "        [159, 162, 177]]], dtype=uint8)"
      ]
     },
     "execution_count": 7,
     "metadata": {},
     "output_type": "execute_result"
    }
   ],
   "source": [
    "#for text in image\n",
    "cv2.rectangle(image, ((0,image.shape[0]-25)),(270, image.shape[0]), (255,255,255), -1)\n",
    "cv2.putText(image, \"Number of faces detected: \" + str(faces.shape[0]), (0,image.shape[0] -10), cv2.FONT_HERSHEY_TRIPLEX, 0.5, (0,0,0), 1)"
   ]
  },
  {
   "cell_type": "code",
   "execution_count": null,
   "metadata": {},
   "outputs": [],
   "source": [
    "cv2.imshow('Image with faces',image)\n",
    "cv2.waitKey(0)\n",
    "cv2.destroyAllWindows()"
   ]
  }
 ],
 "metadata": {
  "kernelspec": {
   "display_name": "Python 3",
   "language": "python",
   "name": "python3"
  },
  "language_info": {
   "codemirror_mode": {
    "name": "ipython",
    "version": 3
   },
   "file_extension": ".py",
   "mimetype": "text/x-python",
   "name": "python",
   "nbconvert_exporter": "python",
   "pygments_lexer": "ipython3",
   "version": "3.7.4"
  }
 },
 "nbformat": 4,
 "nbformat_minor": 2
}
